{
 "cells": [
  {
   "cell_type": "markdown",
   "metadata": {},
   "source": [
    "### 8.Methods\n",
    "1. Imputation\n",
    "2. Outliers handling"
   ]
  },
  {
   "cell_type": "markdown",
   "metadata": {},
   "source": [
    "### Imputation"
   ]
  },
  {
   "cell_type": "code",
   "execution_count": 1,
   "metadata": {},
   "outputs": [],
   "source": [
    "import pandas as pd\n",
    "import numpy as np"
   ]
  },
  {
   "cell_type": "code",
   "execution_count": 2,
   "metadata": {},
   "outputs": [
    {
     "data": {
      "text/html": [
       "<div>\n",
       "<style scoped>\n",
       "    .dataframe tbody tr th:only-of-type {\n",
       "        vertical-align: middle;\n",
       "    }\n",
       "\n",
       "    .dataframe tbody tr th {\n",
       "        vertical-align: top;\n",
       "    }\n",
       "\n",
       "    .dataframe thead th {\n",
       "        text-align: right;\n",
       "    }\n",
       "</style>\n",
       "<table border=\"1\" class=\"dataframe\">\n",
       "  <thead>\n",
       "    <tr style=\"text-align: right;\">\n",
       "      <th></th>\n",
       "      <th>name</th>\n",
       "      <th>home</th>\n",
       "      <th>No</th>\n",
       "    </tr>\n",
       "  </thead>\n",
       "  <tbody>\n",
       "    <tr>\n",
       "      <th>0</th>\n",
       "      <td>Ali</td>\n",
       "      <td>HFD</td>\n",
       "      <td>234.0</td>\n",
       "    </tr>\n",
       "    <tr>\n",
       "      <th>1</th>\n",
       "      <td>NaN</td>\n",
       "      <td>FFF</td>\n",
       "      <td>655.0</td>\n",
       "    </tr>\n",
       "    <tr>\n",
       "      <th>2</th>\n",
       "      <td>Ali</td>\n",
       "      <td>NaN</td>\n",
       "      <td>543.0</td>\n",
       "    </tr>\n",
       "    <tr>\n",
       "      <th>3</th>\n",
       "      <td>NaN</td>\n",
       "      <td>DDD</td>\n",
       "      <td>765.0</td>\n",
       "    </tr>\n",
       "    <tr>\n",
       "      <th>4</th>\n",
       "      <td>Ahmad</td>\n",
       "      <td>NaN</td>\n",
       "      <td>NaN</td>\n",
       "    </tr>\n",
       "    <tr>\n",
       "      <th>5</th>\n",
       "      <td>Zafar</td>\n",
       "      <td>GGG</td>\n",
       "      <td>NaN</td>\n",
       "    </tr>\n",
       "    <tr>\n",
       "      <th>6</th>\n",
       "      <td>Murari</td>\n",
       "      <td>NaN</td>\n",
       "      <td>987.0</td>\n",
       "    </tr>\n",
       "  </tbody>\n",
       "</table>\n",
       "</div>"
      ],
      "text/plain": [
       "     name home     No\n",
       "0     Ali  HFD  234.0\n",
       "1     NaN  FFF  655.0\n",
       "2     Ali  NaN  543.0\n",
       "3     NaN  DDD  765.0\n",
       "4   Ahmad  NaN    NaN\n",
       "5   Zafar  GGG    NaN\n",
       "6  Murari  NaN  987.0"
      ]
     },
     "execution_count": 2,
     "metadata": {},
     "output_type": "execute_result"
    }
   ],
   "source": [
    "dic = {'name':['Ali',np.nan,'Ali',np.nan,'Ahmad','Zafar', 'Murari'],\n",
    "       'home':['HFD','FFF',np.nan,'DDD',np.nan,'GGG',np.nan],\n",
    "       'No':[234,655,543,765,np.nan,np.nan,987]}\n",
    "df = pd.DataFrame(dic)\n",
    "df"
   ]
  },
  {
   "cell_type": "code",
   "execution_count": 3,
   "metadata": {},
   "outputs": [
    {
     "name": "stdout",
     "output_type": "stream",
     "text": [
      "name    2\n",
      "home    3\n",
      "No      2\n",
      "dtype: int64\n",
      "---------------\n"
     ]
    },
    {
     "data": {
      "text/html": [
       "<div>\n",
       "<style scoped>\n",
       "    .dataframe tbody tr th:only-of-type {\n",
       "        vertical-align: middle;\n",
       "    }\n",
       "\n",
       "    .dataframe tbody tr th {\n",
       "        vertical-align: top;\n",
       "    }\n",
       "\n",
       "    .dataframe thead th {\n",
       "        text-align: right;\n",
       "    }\n",
       "</style>\n",
       "<table border=\"1\" class=\"dataframe\">\n",
       "  <thead>\n",
       "    <tr style=\"text-align: right;\">\n",
       "      <th></th>\n",
       "      <th>name</th>\n",
       "      <th>home</th>\n",
       "      <th>No</th>\n",
       "    </tr>\n",
       "  </thead>\n",
       "  <tbody>\n",
       "    <tr>\n",
       "      <th>2</th>\n",
       "      <td>Ali</td>\n",
       "      <td>NaN</td>\n",
       "      <td>543.0</td>\n",
       "    </tr>\n",
       "    <tr>\n",
       "      <th>3</th>\n",
       "      <td>NaN</td>\n",
       "      <td>DDD</td>\n",
       "      <td>765.0</td>\n",
       "    </tr>\n",
       "    <tr>\n",
       "      <th>2</th>\n",
       "      <td>Ali</td>\n",
       "      <td>NaN</td>\n",
       "      <td>543.0</td>\n",
       "    </tr>\n",
       "  </tbody>\n",
       "</table>\n",
       "</div>"
      ],
      "text/plain": [
       "  name home     No\n",
       "2  Ali  NaN  543.0\n",
       "3  NaN  DDD  765.0\n",
       "2  Ali  NaN  543.0"
      ]
     },
     "execution_count": 3,
     "metadata": {},
     "output_type": "execute_result"
    }
   ],
   "source": [
    "print(df.isnull().sum())\n",
    "print(\"---------------\")\n",
    "df.loc[df.isnull().sum()]"
   ]
  },
  {
   "cell_type": "code",
   "execution_count": 4,
   "metadata": {},
   "outputs": [
    {
     "data": {
      "text/html": [
       "<div>\n",
       "<style scoped>\n",
       "    .dataframe tbody tr th:only-of-type {\n",
       "        vertical-align: middle;\n",
       "    }\n",
       "\n",
       "    .dataframe tbody tr th {\n",
       "        vertical-align: top;\n",
       "    }\n",
       "\n",
       "    .dataframe thead th {\n",
       "        text-align: right;\n",
       "    }\n",
       "</style>\n",
       "<table border=\"1\" class=\"dataframe\">\n",
       "  <thead>\n",
       "    <tr style=\"text-align: right;\">\n",
       "      <th></th>\n",
       "      <th>name</th>\n",
       "      <th>home</th>\n",
       "      <th>No</th>\n",
       "    </tr>\n",
       "  </thead>\n",
       "  <tbody>\n",
       "    <tr>\n",
       "      <th>0</th>\n",
       "      <td>Ali</td>\n",
       "      <td>HFD</td>\n",
       "      <td>234.0</td>\n",
       "    </tr>\n",
       "    <tr>\n",
       "      <th>2</th>\n",
       "      <td>Ali</td>\n",
       "      <td>NaN</td>\n",
       "      <td>543.0</td>\n",
       "    </tr>\n",
       "    <tr>\n",
       "      <th>4</th>\n",
       "      <td>Ahmad</td>\n",
       "      <td>NaN</td>\n",
       "      <td>NaN</td>\n",
       "    </tr>\n",
       "    <tr>\n",
       "      <th>5</th>\n",
       "      <td>Zafar</td>\n",
       "      <td>GGG</td>\n",
       "      <td>NaN</td>\n",
       "    </tr>\n",
       "    <tr>\n",
       "      <th>6</th>\n",
       "      <td>Murari</td>\n",
       "      <td>NaN</td>\n",
       "      <td>987.0</td>\n",
       "    </tr>\n",
       "  </tbody>\n",
       "</table>\n",
       "</div>"
      ],
      "text/plain": [
       "     name home     No\n",
       "0     Ali  HFD  234.0\n",
       "2     Ali  NaN  543.0\n",
       "4   Ahmad  NaN    NaN\n",
       "5   Zafar  GGG    NaN\n",
       "6  Murari  NaN  987.0"
      ]
     },
     "execution_count": 4,
     "metadata": {},
     "output_type": "execute_result"
    }
   ],
   "source": [
    "df.dropna( thresh=1, subset=['name'])"
   ]
  },
  {
   "cell_type": "code",
   "execution_count": 5,
   "metadata": {},
   "outputs": [
    {
     "data": {
      "text/html": [
       "<div>\n",
       "<style scoped>\n",
       "    .dataframe tbody tr th:only-of-type {\n",
       "        vertical-align: middle;\n",
       "    }\n",
       "\n",
       "    .dataframe tbody tr th {\n",
       "        vertical-align: top;\n",
       "    }\n",
       "\n",
       "    .dataframe thead th {\n",
       "        text-align: right;\n",
       "    }\n",
       "</style>\n",
       "<table border=\"1\" class=\"dataframe\">\n",
       "  <thead>\n",
       "    <tr style=\"text-align: right;\">\n",
       "      <th></th>\n",
       "      <th>name</th>\n",
       "      <th>home</th>\n",
       "      <th>No</th>\n",
       "    </tr>\n",
       "  </thead>\n",
       "  <tbody>\n",
       "    <tr>\n",
       "      <th>0</th>\n",
       "      <td>Ali</td>\n",
       "      <td>HFD</td>\n",
       "      <td>234.0</td>\n",
       "    </tr>\n",
       "    <tr>\n",
       "      <th>1</th>\n",
       "      <td>NaN</td>\n",
       "      <td>FFF</td>\n",
       "      <td>655.0</td>\n",
       "    </tr>\n",
       "    <tr>\n",
       "      <th>2</th>\n",
       "      <td>Ali</td>\n",
       "      <td>NaN</td>\n",
       "      <td>543.0</td>\n",
       "    </tr>\n",
       "    <tr>\n",
       "      <th>3</th>\n",
       "      <td>NaN</td>\n",
       "      <td>DDD</td>\n",
       "      <td>765.0</td>\n",
       "    </tr>\n",
       "    <tr>\n",
       "      <th>4</th>\n",
       "      <td>Ahmad</td>\n",
       "      <td>NaN</td>\n",
       "      <td>NaN</td>\n",
       "    </tr>\n",
       "    <tr>\n",
       "      <th>5</th>\n",
       "      <td>Zafar</td>\n",
       "      <td>GGG</td>\n",
       "      <td>NaN</td>\n",
       "    </tr>\n",
       "    <tr>\n",
       "      <th>6</th>\n",
       "      <td>Murari</td>\n",
       "      <td>NaN</td>\n",
       "      <td>987.0</td>\n",
       "    </tr>\n",
       "  </tbody>\n",
       "</table>\n",
       "</div>"
      ],
      "text/plain": [
       "     name home     No\n",
       "0     Ali  HFD  234.0\n",
       "1     NaN  FFF  655.0\n",
       "2     Ali  NaN  543.0\n",
       "3     NaN  DDD  765.0\n",
       "4   Ahmad  NaN    NaN\n",
       "5   Zafar  GGG    NaN\n",
       "6  Murari  NaN  987.0"
      ]
     },
     "execution_count": 5,
     "metadata": {},
     "output_type": "execute_result"
    }
   ],
   "source": [
    "df"
   ]
  },
  {
   "cell_type": "code",
   "execution_count": 6,
   "metadata": {},
   "outputs": [
    {
     "name": "stdout",
     "output_type": "stream",
     "text": [
      "0    0.000000\n",
      "1    0.333333\n",
      "2    0.333333\n",
      "3    0.333333\n",
      "4    0.666667\n",
      "5    0.333333\n",
      "6    0.333333\n",
      "dtype: float64\n",
      "----------------\n",
      "  name home     No\n",
      "0  Ali  HFD  234.0 \n",
      " -----------------\n",
      "  name home     No\n",
      "0  Ali  HFD  234.0\n"
     ]
    }
   ],
   "source": [
    "# 1. Method od droping rows which have higher thresh rate ( each row wise) \n",
    "threshold = 0.3\n",
    "print(df.isnull().mean(axis=1))  # 2(null)/6(total)\n",
    "print(\"----------------\")\n",
    "print(df.loc[df.isnull().mean(axis=1) < threshold],\"\\n -----------------\")\n",
    "# 2.\n",
    "print(df.dropna(thresh=3))"
   ]
  },
  {
   "cell_type": "code",
   "execution_count": 17,
   "metadata": {},
   "outputs": [
    {
     "data": {
      "text/plain": [
       "Index(['name', 'No'], dtype='object')"
      ]
     },
     "execution_count": 17,
     "metadata": {},
     "output_type": "execute_result"
    }
   ],
   "source": [
    "df.columns[df.isnull().mean() < threshold]"
   ]
  },
  {
   "cell_type": "code",
   "execution_count": 88,
   "metadata": {},
   "outputs": [
    {
     "name": "stdout",
     "output_type": "stream",
     "text": [
      "name    0.285714\n",
      "home    0.428571\n",
      "No      0.285714\n",
      "dtype: float64 \n",
      "---------------\n",
      "name     True\n",
      "home    False\n",
      "No       True\n",
      "dtype: bool \n",
      "---------------\n",
      "     name     No\n",
      "0     Ali  234.0\n",
      "1     NaN  655.0\n",
      "2     Ali  543.0\n",
      "3     NaN  765.0\n",
      "4   Ahmad    NaN\n",
      "5   Zafar    NaN\n",
      "6  Murari  987.0 \n",
      "---------------1st-method\n"
     ]
    }
   ],
   "source": [
    "# 1. method of droping columns with null values\n",
    "print(df.isnull().mean(),\"\\n---------------\")\n",
    "print(df.isnull().mean() < threshold,\"\\n---------------\")\n",
    "print(df[df.columns[df.isnull().mean() < threshold]],\"\\n---------------1st-method\")\n",
    "\n",
    "# 2. No-second method"
   ]
  },
  {
   "cell_type": "code",
   "execution_count": 4,
   "metadata": {},
   "outputs": [
    {
     "data": {
      "text/plain": [
       "3.0"
      ]
     },
     "execution_count": 4,
     "metadata": {},
     "output_type": "execute_result"
    }
   ],
   "source": [
    "import numpy as np\n",
    "l = [1,2,3,3,4,5]\n",
    "np.mean(l)"
   ]
  },
  {
   "cell_type": "code",
   "execution_count": 96,
   "metadata": {},
   "outputs": [
    {
     "name": "stdout",
     "output_type": "stream",
     "text": [
      "0    Ali\n",
      "dtype: object This is mode same as most geater values-counts()\n",
      "Ali       2\n",
      "Zafar     1\n",
      "Murari    1\n",
      "Ahmad     1\n",
      "Name: name, dtype: int64 \n",
      "----------------\n",
      "0       Ali\n",
      "1       Ali\n",
      "2       Ali\n",
      "3       Ali\n",
      "4     Ahmad\n",
      "5     Zafar\n",
      "6    Murari\n",
      "Name: name, dtype: object\n"
     ]
    }
   ],
   "source": [
    "# Filing all missing values with column mdedians ( its better than mean cause of outliers)\n",
    "#print(df.fillna(df.median(),\"\\n-----------------\"))\n",
    "print(df['name'].mode(),\"This is mode same as most geater values-counts()\")\n",
    "print(df['name'].value_counts(),\"\\n----------------\")\n",
    "print(df['name'].fillna(df['name'].value_counts().idxmax()))"
   ]
  },
  {
   "cell_type": "code",
   "execution_count": 97,
   "metadata": {},
   "outputs": [
    {
     "data": {
      "text/plain": [
       "0    2.0\n",
       "1    NaN\n",
       "2    2.0\n",
       "3    NaN\n",
       "4    1.0\n",
       "5    1.0\n",
       "6    1.0\n",
       "Name: name, dtype: float64"
      ]
     },
     "execution_count": 97,
     "metadata": {},
     "output_type": "execute_result"
    }
   ],
   "source": [
    "x = df['name'].value_counts().to_dict()\n",
    "df['name'].replace(x.keys(),x.values())"
   ]
  },
  {
   "cell_type": "markdown",
   "metadata": {},
   "source": [
    "### Outlier Detection"
   ]
  },
  {
   "cell_type": "code",
   "execution_count": 104,
   "metadata": {},
   "outputs": [
    {
     "data": {
      "text/plain": [
       "0    234.0\n",
       "1    655.0\n",
       "2    543.0\n",
       "3    765.0\n",
       "4      NaN\n",
       "5      NaN\n",
       "6    987.0\n",
       "Name: No, dtype: float64"
      ]
     },
     "execution_count": 104,
     "metadata": {},
     "output_type": "execute_result"
    }
   ],
   "source": [
    "df['No']"
   ]
  },
  {
   "cell_type": "code",
   "execution_count": 103,
   "metadata": {},
   "outputs": [
    {
     "data": {
      "text/plain": [
       "count      5.000000\n",
       "mean     636.800000\n",
       "std      278.591457\n",
       "min      234.000000\n",
       "25%      543.000000\n",
       "50%      655.000000\n",
       "75%      765.000000\n",
       "max      987.000000\n",
       "Name: No, dtype: float64"
      ]
     },
     "execution_count": 103,
     "metadata": {},
     "output_type": "execute_result"
    }
   ],
   "source": [
    "# Either detect by box plot , STD() or percentile.\n",
    "df['No'].describe()"
   ]
  },
  {
   "cell_type": "code",
   "execution_count": 102,
   "metadata": {},
   "outputs": [
    {
     "name": "stdout",
     "output_type": "stream",
     "text": [
      "942.5999999999999\n",
      "295.8\n"
     ]
    },
    {
     "data": {
      "text/html": [
       "<div>\n",
       "<style scoped>\n",
       "    .dataframe tbody tr th:only-of-type {\n",
       "        vertical-align: middle;\n",
       "    }\n",
       "\n",
       "    .dataframe tbody tr th {\n",
       "        vertical-align: top;\n",
       "    }\n",
       "\n",
       "    .dataframe thead th {\n",
       "        text-align: right;\n",
       "    }\n",
       "</style>\n",
       "<table border=\"1\" class=\"dataframe\">\n",
       "  <thead>\n",
       "    <tr style=\"text-align: right;\">\n",
       "      <th></th>\n",
       "      <th>name</th>\n",
       "      <th>home</th>\n",
       "      <th>No</th>\n",
       "    </tr>\n",
       "  </thead>\n",
       "  <tbody>\n",
       "    <tr>\n",
       "      <th>1</th>\n",
       "      <td>NaN</td>\n",
       "      <td>FFF</td>\n",
       "      <td>655.0</td>\n",
       "    </tr>\n",
       "    <tr>\n",
       "      <th>2</th>\n",
       "      <td>Ali</td>\n",
       "      <td>NaN</td>\n",
       "      <td>543.0</td>\n",
       "    </tr>\n",
       "    <tr>\n",
       "      <th>3</th>\n",
       "      <td>NaN</td>\n",
       "      <td>DDD</td>\n",
       "      <td>765.0</td>\n",
       "    </tr>\n",
       "  </tbody>\n",
       "</table>\n",
       "</div>"
      ],
      "text/plain": [
       "  name home     No\n",
       "1  NaN  FFF  655.0\n",
       "2  Ali  NaN  543.0\n",
       "3  NaN  DDD  765.0"
      ]
     },
     "execution_count": 102,
     "metadata": {},
     "output_type": "execute_result"
    }
   ],
   "source": [
    "x = df['No'].quantile(.95)\n",
    "y = df['No'].quantile(.05)\n",
    "print(x)\n",
    "print(y)\n",
    "df[(df['No'] < x) & (df['No'] > y)]"
   ]
  },
  {
   "cell_type": "code",
   "execution_count": 107,
   "metadata": {},
   "outputs": [
    {
     "data": {
      "text/plain": [
       "0    295.8\n",
       "1    655.0\n",
       "2    543.0\n",
       "3    765.0\n",
       "4      NaN\n",
       "5      NaN\n",
       "6    942.6\n",
       "Name: No, dtype: float64"
      ]
     },
     "execution_count": 107,
     "metadata": {},
     "output_type": "execute_result"
    }
   ],
   "source": [
    "# Caping the outliers , with max and min values for max and min outliers\n",
    "df.loc[df['No'] > x, 'No'] = x\n",
    "df.loc[df['No'] < y, 'No'] = y\n",
    "df['No']"
   ]
  },
  {
   "cell_type": "code",
   "execution_count": 1,
   "metadata": {},
   "outputs": [],
   "source": [
    "import numpy as np"
   ]
  },
  {
   "cell_type": "code",
   "execution_count": 5,
   "metadata": {},
   "outputs": [
    {
     "name": "stdout",
     "output_type": "stream",
     "text": [
      "4.850000000000006\n",
      "8.829637591656866\n",
      "-2.574999999999997\n",
      "12.275000000000007\n"
     ]
    },
    {
     "data": {
      "text/plain": [
       "array([-10. ,  -9.1,  -8.2,  -7.3,  -6.4,  -5.5,  -4.6,  -3.7,  -2.8,\n",
       "        -1.9,  -1. ,  -0.1,   0.8,   1.7,   2.6,   3.5,   4.4,   5.3,\n",
       "         6.2,   7.1,   8. ,   8.9,   9.8,  10.7,  11.6,  12.5,  13.4,\n",
       "        14.3,  15.2,  16.1,  17. ,  17.9,  18.8,  19.7])"
      ]
     },
     "execution_count": 5,
     "metadata": {},
     "output_type": "execute_result"
    },
    {
     "data": {
      "image/png": "[encoded data removed]",
      "text/plain": [
       "<Figure size 432x288 with 1 Axes>"
      ]
     },
     "metadata": {
      "needs_background": "light"
     },
     "output_type": "display_data"
    }
   ],
   "source": [
    "l1 = np.arange(-10,20,step=0.9)\n",
    "print(np.mean(l1))\n",
    "print(np.std(l1))\n",
    "lower_b , upper_b = np.percentile(l1,[25,75])\n",
    "print(lower_b)\n",
    "print(upper_b)\n",
    "import matplotlib.pyplot as plt\n",
    "plt.hist(l1)\n",
    "l1"
   ]
  },
  {
   "cell_type": "code",
   "execution_count": null,
   "metadata": {},
   "outputs": [],
   "source": []
  }
 ],
 "metadata": {
  "kernelspec": {
   "display_name": "Python 3",
   "language": "python",
   "name": "python3"
  },
  "language_info": {
   "codemirror_mode": {
    "name": "ipython",
    "version": 3
   },
   "file_extension": ".py",
   "mimetype": "text/x-python",
   "name": "python",
   "nbconvert_exporter": "python",
   "pygments_lexer": "ipython3",
   "version": "3.8.5"
  }
 },
 "nbformat": 4,
 "nbformat_minor": 4
}
