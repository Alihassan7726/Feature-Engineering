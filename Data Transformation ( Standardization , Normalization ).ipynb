{
 "cells": [
  {
   "cell_type": "code",
   "execution_count": 7,
   "metadata": {},
   "outputs": [],
   "source": [
    "### Standardization is always best when we have outliers . However normalization just normalize values between 0 and 1,weather it\n",
    "### is a outlier or not all things will be converted to (0-1) and also the histogram still shows the outlier bar in the plot of\n",
    "### normalized Data .\n",
    "### Standardization provide mean = 0 and std = 1 , it means that values are well normally distributed and also (the values are\n",
    "### normalized) . But it's provided values can be >1 or >2 depending on Data and outliers . Overall it adjusted the outliers and\n",
    "### provide normally distributed Data along with normalized values . \n",
    "\n"
   ]
  },
  {
   "cell_type": "code",
   "execution_count": 8,
   "metadata": {},
   "outputs": [],
   "source": [
    "# Standardization formula = x - xmean() / xstd() ..... \n",
    "#\n",
    "# Normalization formula = x - xmin / (xmax - xmin) ..... "
   ]
  },
  {
   "cell_type": "code",
   "execution_count": 1,
   "metadata": {},
   "outputs": [],
   "source": [
    "import pandas as pd\n",
    "\n",
    "import numpy as np"
   ]
  },
  {
   "cell_type": "code",
   "execution_count": 2,
   "metadata": {
    "scrolled": true
   },
   "outputs": [
    {
     "name": "stdout",
     "output_type": "stream",
     "text": [
      "[ 1.    1.05  1.1   1.15  1.2   1.25  1.3   1.35  1.4   1.45  1.5   1.55\n",
      "  1.6   1.65  1.7   1.75  1.8   1.85  1.9   1.95  2.    2.05  2.1   2.15\n",
      "  2.2   2.25  2.3   2.35  2.4   2.45  2.5   2.55  2.6   2.65  2.7   2.75\n",
      "  2.8   2.85  2.9   2.95  3.    3.05  3.1   3.15  3.2   3.25  3.3   3.35\n",
      "  3.4   3.45  3.5   3.55  3.6   3.65  3.7   3.75  3.8   3.85  3.9   3.95\n",
      "  4.    4.05  4.1   4.15  4.2   4.25  4.3   4.35  4.4   4.45  4.5   4.55\n",
      "  4.6   4.65  4.7   4.75  4.8   4.85  4.9   4.95  5.    5.05  5.1   5.15\n",
      "  5.2   5.25  5.3   5.35  5.4   5.45  5.5   5.55  5.6   5.65  5.7   5.75\n",
      "  5.8   5.85  5.9   5.95  6.    6.05  6.1   6.15  6.2   6.25  6.3   6.35\n",
      "  6.4   6.45  6.5   6.55  6.6   6.65  6.7   6.75  6.8   6.85  6.9   6.95\n",
      "  7.    7.05  7.1   7.15  7.2   7.25  7.3   7.35  7.4   7.45  7.5   7.55\n",
      "  7.6   7.65  7.7   7.75  7.8   7.85  7.9   7.95  8.    8.05  8.1   8.15\n",
      "  8.2   8.25  8.3   8.35  8.4   8.45  8.5   8.55  8.6   8.65  8.7   8.75\n",
      "  8.8   8.85  8.9   8.95  9.    9.05  9.1   9.15  9.2   9.25  9.3   9.35\n",
      "  9.4   9.45  9.5   9.55  9.6   9.65  9.7   9.75  9.8   9.85  9.9   9.95\n",
      " 10.   10.05 10.1  10.15 10.2  10.25 10.3  10.35 10.4  10.45 10.5  10.55\n",
      " 10.6  10.65 10.7  10.75 10.8  10.85 10.9  10.95 11.   11.05 11.1  11.15\n",
      " 11.2  11.25 11.3  11.35 11.4  11.45 11.5  11.55 11.6  11.65 11.7  11.75\n",
      " 11.8  11.85 11.9  11.95 12.   12.05 12.1  12.15 12.2  12.25 12.3  12.35\n",
      " 12.4  12.45 12.5  12.55 12.6  12.65 12.7  12.75 12.8  12.85 12.9  12.95\n",
      " 13.   13.05 13.1  13.15 13.2  13.25 13.3  13.35 13.4  13.45 13.5  13.55\n",
      " 13.6  13.65 13.7  13.75 13.8  13.85 13.9  13.95 14.   14.05 14.1  14.15\n",
      " 14.2  14.25 14.3  14.35 14.4  14.45 14.5  14.55 14.6  14.65 14.7  14.75\n",
      " 14.8  14.85 14.9  14.95 15.   15.05 15.1  15.15 15.2  15.25 15.3  15.35\n",
      " 15.4  15.45 15.5  15.55 15.6  15.65 15.7  15.75 15.8  15.85 15.9  15.95\n",
      " 16.   16.05 16.1  16.15 16.2  16.25 16.3  16.35 16.4  16.45 16.5  16.55\n",
      " 16.6  16.65 16.7  16.75 16.8  16.85 16.9  16.95 17.   17.05 17.1  17.15\n",
      " 17.2  17.25 17.3  17.35 17.4  17.45 17.5  17.55 17.6  17.65 17.7  17.75\n",
      " 17.8  17.85 17.9  17.95 18.   18.05 18.1  18.15 18.2  18.25 18.3  18.35\n",
      " 18.4  18.45 18.5  18.55 18.6  18.65 18.7  18.75 18.8  18.85 18.9  18.95\n",
      " 19.   19.05 19.1  19.15 19.2  19.25 19.3  19.35 19.4  19.45 19.5  19.55\n",
      " 19.6  19.65 19.7  19.75 19.8  19.85 19.9  19.95 20.   20.05 20.1  20.15\n",
      " 20.2  20.25 20.3  20.35 20.4  20.45 20.5  20.55 20.6  20.65 20.7  20.75\n",
      " 20.8  20.85 20.9  20.95 21.   21.05 21.1  21.15 21.2  21.25 21.3  21.35\n",
      " 21.4  21.45 21.5  21.55 21.6  21.65 21.7  21.75 21.8  21.85 21.9  21.95\n",
      " 22.   22.05 22.1  22.15 22.2  22.25 22.3  22.35 22.4  22.45 22.5  22.55\n",
      " 22.6  22.65 22.7  22.75 22.8  22.85 22.9  22.95 23.   23.05 23.1  23.15\n",
      " 23.2  23.25 23.3  23.35 23.4  23.45 23.5  23.55 23.6  23.65 23.7  23.75\n",
      " 23.8  23.85 23.9  23.95 24.   24.05 24.1  24.15 24.2  24.25 24.3  24.35\n",
      " 24.4  24.45 24.5  24.55 24.6  24.65 24.7  24.75 24.8  24.85 24.9  24.95\n",
      " 25.   25.05 25.1  25.15 25.2  25.25 25.3  25.35 25.4  25.45 25.5  25.55\n",
      " 25.6  25.65 25.7  25.75 25.8  25.85 25.9  25.95 26.   26.05 26.1  26.15\n",
      " 26.2  26.25 26.3  26.35 26.4  26.45 26.5  26.55 26.6  26.65 26.7  26.75\n",
      " 26.8  26.85 26.9  26.95 27.   27.05 27.1  27.15 27.2  27.25 27.3  27.35\n",
      " 27.4  27.45 27.5  27.55 27.6  27.65 27.7  27.75 27.8  27.85 27.9  27.95\n",
      " 28.   28.05 28.1  28.15 28.2  28.25 28.3  28.35 28.4  28.45 28.5  28.55\n",
      " 28.6  28.65 28.7  28.75 28.8  28.85 28.9  28.95 29.   29.05 29.1  29.15\n",
      " 29.2  29.25 29.3  29.35 29.4  29.45 29.5  29.55 29.6  29.65 29.7  29.75\n",
      " 29.8  29.85 29.9  29.95 30.   30.05 30.1  30.15 30.2  30.25 30.3  30.35\n",
      " 30.4  30.45 30.5  30.55 30.6  30.65 30.7  30.75 30.8  30.85 30.9  30.95]\n",
      "<class 'numpy.ndarray'>\n"
     ]
    }
   ],
   "source": [
    "a1 = np.arange(1,31,0.05)\n",
    "print(a1)\n",
    "print(type(a1))"
   ]
  },
  {
   "cell_type": "code",
   "execution_count": 3,
   "metadata": {
    "scrolled": true
   },
   "outputs": [
    {
     "name": "stdout",
     "output_type": "stream",
     "text": [
      "[31.   31.05 31.1  31.15 31.2  31.25 31.3  31.35 31.4  31.45 31.5  31.55\n",
      " 31.6  31.65 31.7  31.75 31.8  31.85 31.9  31.95 32.   32.05 32.1  32.15\n",
      " 32.2  32.25 32.3  32.35 32.4  32.45 32.5  32.55 32.6  32.65 32.7  32.75\n",
      " 32.8  32.85 32.9  32.95 33.   33.05 33.1  33.15 33.2  33.25 33.3  33.35\n",
      " 33.4  33.45 33.5  33.55 33.6  33.65 33.7  33.75 33.8  33.85 33.9  33.95\n",
      " 34.   34.05 34.1  34.15 34.2  34.25 34.3  34.35 34.4  34.45 34.5  34.55\n",
      " 34.6  34.65 34.7  34.75 34.8  34.85 34.9  34.95 35.   35.05 35.1  35.15\n",
      " 35.2  35.25 35.3  35.35 35.4  35.45 35.5  35.55 35.6  35.65 35.7  35.75\n",
      " 35.8  35.85 35.9  35.95 36.   36.05 36.1  36.15 36.2  36.25 36.3  36.35\n",
      " 36.4  36.45 36.5  36.55 36.6  36.65 36.7  36.75 36.8  36.85 36.9  36.95\n",
      " 37.   37.05 37.1  37.15 37.2  37.25 37.3  37.35 37.4  37.45 37.5  37.55\n",
      " 37.6  37.65 37.7  37.75 37.8  37.85 37.9  37.95 38.   38.05 38.1  38.15\n",
      " 38.2  38.25 38.3  38.35 38.4  38.45 38.5  38.55 38.6  38.65 38.7  38.75\n",
      " 38.8  38.85 38.9  38.95 39.   39.05 39.1  39.15 39.2  39.25 39.3  39.35\n",
      " 39.4  39.45 39.5  39.55 39.6  39.65 39.7  39.75 39.8  39.85 39.9  39.95\n",
      " 40.   40.05 40.1  40.15 40.2  40.25 40.3  40.35 40.4  40.45 40.5  40.55\n",
      " 40.6  40.65 40.7  40.75 40.8  40.85 40.9  40.95 41.   41.05 41.1  41.15\n",
      " 41.2  41.25 41.3  41.35 41.4  41.45 41.5  41.55 41.6  41.65 41.7  41.75\n",
      " 41.8  41.85 41.9  41.95 42.   42.05 42.1  42.15 42.2  42.25 42.3  42.35\n",
      " 42.4  42.45 42.5  42.55 42.6  42.65 42.7  42.75 42.8  42.85 42.9  42.95\n",
      " 43.   43.05 43.1  43.15 43.2  43.25 43.3  43.35 43.4  43.45 43.5  43.55\n",
      " 43.6  43.65 43.7  43.75 43.8  43.85 43.9  43.95 44.   44.05 44.1  44.15\n",
      " 44.2  44.25 44.3  44.35 44.4  44.45 44.5  44.55 44.6  44.65 44.7  44.75\n",
      " 44.8  44.85 44.9  44.95 45.   45.05 45.1  45.15 45.2  45.25 45.3  45.35\n",
      " 45.4  45.45 45.5  45.55 45.6  45.65 45.7  45.75 45.8  45.85 45.9  45.95\n",
      " 46.   46.05 46.1  46.15 46.2  46.25 46.3  46.35 46.4  46.45 46.5  46.55\n",
      " 46.6  46.65 46.7  46.75 46.8  46.85 46.9  46.95 47.   47.05 47.1  47.15\n",
      " 47.2  47.25 47.3  47.35 47.4  47.45 47.5  47.55 47.6  47.65 47.7  47.75\n",
      " 47.8  47.85 47.9  47.95 48.   48.05 48.1  48.15 48.2  48.25 48.3  48.35\n",
      " 48.4  48.45 48.5  48.55 48.6  48.65 48.7  48.75 48.8  48.85 48.9  48.95\n",
      " 49.   49.05 49.1  49.15 49.2  49.25 49.3  49.35 49.4  49.45 49.5  49.55\n",
      " 49.6  49.65 49.7  49.75 49.8  49.85 49.9  49.95 50.   50.05 50.1  50.15\n",
      " 50.2  50.25 50.3  50.35 50.4  50.45 50.5  50.55 50.6  50.65 50.7  50.75\n",
      " 50.8  50.85 50.9  50.95 51.   51.05 51.1  51.15 51.2  51.25 51.3  51.35\n",
      " 51.4  51.45 51.5  51.55 51.6  51.65 51.7  51.75 51.8  51.85 51.9  51.95\n",
      " 52.   52.05 52.1  52.15 52.2  52.25 52.3  52.35 52.4  52.45 52.5  52.55\n",
      " 52.6  52.65 52.7  52.75 52.8  52.85 52.9  52.95 53.   53.05 53.1  53.15\n",
      " 53.2  53.25 53.3  53.35 53.4  53.45 53.5  53.55 53.6  53.65 53.7  53.75\n",
      " 53.8  53.85 53.9  53.95 54.   54.05 54.1  54.15 54.2  54.25 54.3  54.35\n",
      " 54.4  54.45 54.5  54.55 54.6  54.65 54.7  54.75 54.8  54.85 54.9  54.95\n",
      " 55.   55.05 55.1  55.15 55.2  55.25 55.3  55.35 55.4  55.45 55.5  55.55\n",
      " 55.6  55.65 55.7  55.75 55.8  55.85 55.9  55.95 56.   56.05 56.1  56.15\n",
      " 56.2  56.25 56.3  56.35 56.4  56.45 56.5  56.55 56.6  56.65 56.7  56.75\n",
      " 56.8  56.85 56.9  56.95 57.   57.05 57.1  57.15 57.2  57.25 57.3  57.35\n",
      " 57.4  57.45 57.5  57.55 57.6  57.65 57.7  57.75 57.8  57.85 57.9  57.95\n",
      " 58.   58.05 58.1  58.15 58.2  58.25 58.3  58.35 58.4  58.45 58.5  58.55\n",
      " 58.6  58.65 58.7  58.75 58.8  58.85 58.9  58.95 59.   59.05 59.1  59.15\n",
      " 59.2  59.25 59.3  59.35 59.4  59.45 59.5  59.55 59.6  59.65 59.7  59.75\n",
      " 59.8  59.85 59.9  59.95 60.   60.05 60.1  60.15 60.2  60.25 60.3  60.35\n",
      " 60.4  60.45 60.5  60.55 60.6  60.65 60.7  60.75 60.8  60.85 60.9  60.95]\n",
      "(600,)\n"
     ]
    }
   ],
   "source": [
    "#a2 = np.random.rand(1,100)\n",
    "#print(a2)\n",
    "#print(type(a2))\n",
    "a2 = np.arange(31,61,0.05)\n",
    "print(a2)\n",
    "print(np.shape(a2))"
   ]
  },
  {
   "cell_type": "code",
   "execution_count": 4,
   "metadata": {},
   "outputs": [
    {
     "data": {
      "text/html": [
       "<div>\n",
       "<style scoped>\n",
       "    .dataframe tbody tr th:only-of-type {\n",
       "        vertical-align: middle;\n",
       "    }\n",
       "\n",
       "    .dataframe tbody tr th {\n",
       "        vertical-align: top;\n",
       "    }\n",
       "\n",
       "    .dataframe thead th {\n",
       "        text-align: right;\n",
       "    }\n",
       "</style>\n",
       "<table border=\"1\" class=\"dataframe\">\n",
       "  <thead>\n",
       "    <tr style=\"text-align: right;\">\n",
       "      <th></th>\n",
       "      <th>a1</th>\n",
       "      <th>1</th>\n",
       "    </tr>\n",
       "  </thead>\n",
       "  <tbody>\n",
       "    <tr>\n",
       "      <th>0</th>\n",
       "      <td>1.00</td>\n",
       "      <td>31.00</td>\n",
       "    </tr>\n",
       "    <tr>\n",
       "      <th>1</th>\n",
       "      <td>1.05</td>\n",
       "      <td>31.05</td>\n",
       "    </tr>\n",
       "    <tr>\n",
       "      <th>2</th>\n",
       "      <td>1.10</td>\n",
       "      <td>31.10</td>\n",
       "    </tr>\n",
       "    <tr>\n",
       "      <th>3</th>\n",
       "      <td>1.15</td>\n",
       "      <td>31.15</td>\n",
       "    </tr>\n",
       "    <tr>\n",
       "      <th>4</th>\n",
       "      <td>1.20</td>\n",
       "      <td>31.20</td>\n",
       "    </tr>\n",
       "    <tr>\n",
       "      <th>...</th>\n",
       "      <td>...</td>\n",
       "      <td>...</td>\n",
       "    </tr>\n",
       "    <tr>\n",
       "      <th>595</th>\n",
       "      <td>30.75</td>\n",
       "      <td>60.75</td>\n",
       "    </tr>\n",
       "    <tr>\n",
       "      <th>596</th>\n",
       "      <td>30.80</td>\n",
       "      <td>60.80</td>\n",
       "    </tr>\n",
       "    <tr>\n",
       "      <th>597</th>\n",
       "      <td>30.85</td>\n",
       "      <td>60.85</td>\n",
       "    </tr>\n",
       "    <tr>\n",
       "      <th>598</th>\n",
       "      <td>30.90</td>\n",
       "      <td>60.90</td>\n",
       "    </tr>\n",
       "    <tr>\n",
       "      <th>599</th>\n",
       "      <td>30.95</td>\n",
       "      <td>60.95</td>\n",
       "    </tr>\n",
       "  </tbody>\n",
       "</table>\n",
       "<p>600 rows × 2 columns</p>\n",
       "</div>"
      ],
      "text/plain": [
       "        a1      1\n",
       "0     1.00  31.00\n",
       "1     1.05  31.05\n",
       "2     1.10  31.10\n",
       "3     1.15  31.15\n",
       "4     1.20  31.20\n",
       "..     ...    ...\n",
       "595  30.75  60.75\n",
       "596  30.80  60.80\n",
       "597  30.85  60.85\n",
       "598  30.90  60.90\n",
       "599  30.95  60.95\n",
       "\n",
       "[600 rows x 2 columns]"
      ]
     },
     "execution_count": 4,
     "metadata": {},
     "output_type": "execute_result"
    }
   ],
   "source": [
    "df = pd.DataFrame(a1, columns=['a1'])\n",
    "df[1] = a2\n",
    "df.rename(columns = {1:'a2'})\n",
    "df"
   ]
  },
  {
   "cell_type": "code",
   "execution_count": 45,
   "metadata": {},
   "outputs": [
    {
     "data": {
      "text/plain": [
       "<matplotlib.axes._subplots.AxesSubplot at 0x290a54d20d0>"
      ]
     },
     "execution_count": 45,
     "metadata": {},
     "output_type": "execute_result"
    },
    {
     "data": {
      "image/png": "[encoded data removed]",
      "text/plain": [
       "<Figure size 432x288 with 1 Axes>"
      ]
     },
     "metadata": {
      "needs_background": "light"
     },
     "output_type": "display_data"
    }
   ],
   "source": [
    "df[1].plot.hist(bins = 30)"
   ]
  },
  {
   "cell_type": "code",
   "execution_count": 43,
   "metadata": {},
   "outputs": [
    {
     "data": {
      "text/plain": [
       "array([[0.03224129, 0.99948011],\n",
       "       [0.03379711, 0.99942871],\n",
       "       [0.03534767, 0.99937508],\n",
       "       ...,\n",
       "       [0.45219027, 0.8919215 ],\n",
       "       [0.45247741, 0.89177587],\n",
       "       [0.45276393, 0.89163043]])"
      ]
     },
     "execution_count": 43,
     "metadata": {},
     "output_type": "execute_result"
    }
   ],
   "source": [
    "import sklearn\n",
    "from sklearn import preprocessing \n",
    "normalized_x = preprocessing.normalize(df)\n",
    "normalized_x"
   ]
  },
  {
   "cell_type": "code",
   "execution_count": 1,
   "metadata": {},
   "outputs": [],
   "source": [
    "import seaborn as sns\n",
    "df = sns.load_dataset('iris')"
   ]
  },
  {
   "cell_type": "code",
   "execution_count": 2,
   "metadata": {},
   "outputs": [
    {
     "data": {
      "text/html": [
       "<div>\n",
       "<style scoped>\n",
       "    .dataframe tbody tr th:only-of-type {\n",
       "        vertical-align: middle;\n",
       "    }\n",
       "\n",
       "    .dataframe tbody tr th {\n",
       "        vertical-align: top;\n",
       "    }\n",
       "\n",
       "    .dataframe thead th {\n",
       "        text-align: right;\n",
       "    }\n",
       "</style>\n",
       "<table border=\"1\" class=\"dataframe\">\n",
       "  <thead>\n",
       "    <tr style=\"text-align: right;\">\n",
       "      <th></th>\n",
       "      <th>sepal_length</th>\n",
       "      <th>sepal_width</th>\n",
       "      <th>petal_length</th>\n",
       "      <th>petal_width</th>\n",
       "      <th>species</th>\n",
       "    </tr>\n",
       "  </thead>\n",
       "  <tbody>\n",
       "    <tr>\n",
       "      <th>0</th>\n",
       "      <td>5.1</td>\n",
       "      <td>3.5</td>\n",
       "      <td>1.4</td>\n",
       "      <td>0.2</td>\n",
       "      <td>setosa</td>\n",
       "    </tr>\n",
       "    <tr>\n",
       "      <th>1</th>\n",
       "      <td>4.9</td>\n",
       "      <td>3.0</td>\n",
       "      <td>1.4</td>\n",
       "      <td>0.2</td>\n",
       "      <td>setosa</td>\n",
       "    </tr>\n",
       "    <tr>\n",
       "      <th>2</th>\n",
       "      <td>4.7</td>\n",
       "      <td>3.2</td>\n",
       "      <td>1.3</td>\n",
       "      <td>0.2</td>\n",
       "      <td>setosa</td>\n",
       "    </tr>\n",
       "    <tr>\n",
       "      <th>3</th>\n",
       "      <td>4.6</td>\n",
       "      <td>3.1</td>\n",
       "      <td>1.5</td>\n",
       "      <td>0.2</td>\n",
       "      <td>setosa</td>\n",
       "    </tr>\n",
       "    <tr>\n",
       "      <th>4</th>\n",
       "      <td>5.0</td>\n",
       "      <td>3.6</td>\n",
       "      <td>1.4</td>\n",
       "      <td>0.2</td>\n",
       "      <td>setosa</td>\n",
       "    </tr>\n",
       "  </tbody>\n",
       "</table>\n",
       "</div>"
      ],
      "text/plain": [
       "   sepal_length  sepal_width  petal_length  petal_width species\n",
       "0           5.1          3.5           1.4          0.2  setosa\n",
       "1           4.9          3.0           1.4          0.2  setosa\n",
       "2           4.7          3.2           1.3          0.2  setosa\n",
       "3           4.6          3.1           1.5          0.2  setosa\n",
       "4           5.0          3.6           1.4          0.2  setosa"
      ]
     },
     "execution_count": 2,
     "metadata": {},
     "output_type": "execute_result"
    }
   ],
   "source": [
    "df.head()"
   ]
  },
  {
   "cell_type": "code",
   "execution_count": 6,
   "metadata": {},
   "outputs": [
    {
     "data": {
      "text/plain": [
       "<seaborn.axisgrid.FacetGrid at 0x19d87f8de50>"
      ]
     },
     "execution_count": 6,
     "metadata": {},
     "output_type": "execute_result"
    },
    {
     "data": {
      "image/png": "[encoded data removed]",
      "text/plain": [
       "<Figure size 432x288 with 1 Axes>"
      ]
     },
     "metadata": {
      "needs_background": "light"
     },
     "output_type": "display_data"
    },
    {
     "data": {
      "image/png": "[encoded data removed]",
      "text/plain": [
       "<Figure size 216x216 with 1 Axes>"
      ]
     },
     "metadata": {
      "needs_background": "light"
     },
     "output_type": "display_data"
    }
   ],
   "source": [
    "import matplotlib.pyplot as plt\n",
    "#plt.subplot(1,2,1)\n",
    "df['sepal_length'].hist(bins = 45)\n",
    "#plt.subplot(1,2,2)\n",
    "sns.FacetGrid(data=df ).map(plt.hist , 'petal_length', bins = 45)"
   ]
  },
  {
   "cell_type": "code",
   "execution_count": 67,
   "metadata": {
    "scrolled": true
   },
   "outputs": [
    {
     "data": {
      "text/html": [
       "<div>\n",
       "<style scoped>\n",
       "    .dataframe tbody tr th:only-of-type {\n",
       "        vertical-align: middle;\n",
       "    }\n",
       "\n",
       "    .dataframe tbody tr th {\n",
       "        vertical-align: top;\n",
       "    }\n",
       "\n",
       "    .dataframe thead th {\n",
       "        text-align: right;\n",
       "    }\n",
       "</style>\n",
       "<table border=\"1\" class=\"dataframe\">\n",
       "  <thead>\n",
       "    <tr style=\"text-align: right;\">\n",
       "      <th></th>\n",
       "      <th>sepal_length</th>\n",
       "      <th>petal_length</th>\n",
       "    </tr>\n",
       "  </thead>\n",
       "  <tbody>\n",
       "    <tr>\n",
       "      <th>0</th>\n",
       "      <td>5.1</td>\n",
       "      <td>1.4</td>\n",
       "    </tr>\n",
       "    <tr>\n",
       "      <th>1</th>\n",
       "      <td>4.9</td>\n",
       "      <td>1.4</td>\n",
       "    </tr>\n",
       "    <tr>\n",
       "      <th>2</th>\n",
       "      <td>4.7</td>\n",
       "      <td>1.3</td>\n",
       "    </tr>\n",
       "    <tr>\n",
       "      <th>3</th>\n",
       "      <td>4.6</td>\n",
       "      <td>1.5</td>\n",
       "    </tr>\n",
       "    <tr>\n",
       "      <th>4</th>\n",
       "      <td>5.0</td>\n",
       "      <td>1.4</td>\n",
       "    </tr>\n",
       "    <tr>\n",
       "      <th>...</th>\n",
       "      <td>...</td>\n",
       "      <td>...</td>\n",
       "    </tr>\n",
       "    <tr>\n",
       "      <th>145</th>\n",
       "      <td>6.7</td>\n",
       "      <td>5.2</td>\n",
       "    </tr>\n",
       "    <tr>\n",
       "      <th>146</th>\n",
       "      <td>6.3</td>\n",
       "      <td>5.0</td>\n",
       "    </tr>\n",
       "    <tr>\n",
       "      <th>147</th>\n",
       "      <td>6.5</td>\n",
       "      <td>5.2</td>\n",
       "    </tr>\n",
       "    <tr>\n",
       "      <th>148</th>\n",
       "      <td>6.2</td>\n",
       "      <td>5.4</td>\n",
       "    </tr>\n",
       "    <tr>\n",
       "      <th>149</th>\n",
       "      <td>5.9</td>\n",
       "      <td>5.1</td>\n",
       "    </tr>\n",
       "  </tbody>\n",
       "</table>\n",
       "<p>150 rows × 2 columns</p>\n",
       "</div>"
      ],
      "text/plain": [
       "     sepal_length  petal_length\n",
       "0             5.1           1.4\n",
       "1             4.9           1.4\n",
       "2             4.7           1.3\n",
       "3             4.6           1.5\n",
       "4             5.0           1.4\n",
       "..            ...           ...\n",
       "145           6.7           5.2\n",
       "146           6.3           5.0\n",
       "147           6.5           5.2\n",
       "148           6.2           5.4\n",
       "149           5.9           5.1\n",
       "\n",
       "[150 rows x 2 columns]"
      ]
     },
     "execution_count": 67,
     "metadata": {},
     "output_type": "execute_result"
    }
   ],
   "source": [
    "sup = df.iloc[:,[0,2]]\n",
    "sup"
   ]
  },
  {
   "cell_type": "code",
   "execution_count": 68,
   "metadata": {
    "scrolled": true
   },
   "outputs": [
    {
     "data": {
      "text/plain": [
       "array([[0.96432615, 0.26471698],\n",
       "       [0.96152395, 0.27472113],\n",
       "       [0.96381112, 0.26658605],\n",
       "       [0.95072984, 0.3100206 ],\n",
       "       [0.96296402, 0.26962993],\n",
       "       [0.95384925, 0.30028588],\n",
       "       [0.95667388, 0.29116162],\n",
       "       [0.95782629, 0.28734789],\n",
       "       [0.95292578, 0.30320366],\n",
       "       [0.95619996, 0.29271427],\n",
       "       [0.96351791, 0.26764386],\n",
       "       [0.9486833 , 0.31622777],\n",
       "       [0.96      , 0.28      ],\n",
       "       [0.9688027 , 0.24783325],\n",
       "       [0.97926042, 0.2026056 ],\n",
       "       [0.96707454, 0.2544933 ],\n",
       "       [0.97222364, 0.23405384],\n",
       "       [0.96432615, 0.26471698],\n",
       "       [0.95828776, 0.28580512],\n",
       "       [0.9593655 , 0.28216632],\n",
       "       [0.95384925, 0.30028588],\n",
       "       [0.9593655 , 0.28216632],\n",
       "       [0.97717636, 0.21242964],\n",
       "       [0.9486833 , 0.31622777],\n",
       "       [0.92980661, 0.36804845],\n",
       "       [0.95242415, 0.30477573],\n",
       "       [0.95242415, 0.30477573],\n",
       "       [0.96082359, 0.27716065],\n",
       "       [0.96561576, 0.25997347],\n",
       "       [0.94664991, 0.3222638 ],\n",
       "       [0.9486833 , 0.31622777],\n",
       "       [0.96351791, 0.26764386],\n",
       "       [0.96082359, 0.27716065],\n",
       "       [0.96909717, 0.24667928],\n",
       "       [0.95619996, 0.29271427],\n",
       "       [0.9723873 , 0.23337295],\n",
       "       [0.97318461, 0.23002545],\n",
       "       [0.96152395, 0.27472113],\n",
       "       [0.95901771, 0.28334614],\n",
       "       [0.9593655 , 0.28216632],\n",
       "       [0.96782251, 0.25163385],\n",
       "       [0.96071418, 0.27753965],\n",
       "       [0.95901771, 0.28334614],\n",
       "       [0.95242415, 0.30477573],\n",
       "       [0.93708211, 0.34910902],\n",
       "       [0.96      , 0.28      ],\n",
       "       [0.95414649, 0.29934007],\n",
       "       [0.95667388, 0.29116162],\n",
       "       [0.96220605, 0.27232247],\n",
       "       [0.96296402, 0.26962993],\n",
       "       [0.83022113, 0.55743419],\n",
       "       [0.81802916, 0.57517675],\n",
       "       [0.8153272 , 0.57900048],\n",
       "       [0.80873608, 0.5881717 ],\n",
       "       [0.81627121, 0.57766886],\n",
       "       [0.78488277, 0.61964429],\n",
       "       [0.80152412, 0.59796244],\n",
       "       [0.82943693, 0.55860038],\n",
       "       [0.82039817, 0.57179266],\n",
       "       [0.8       , 0.6       ],\n",
       "       [0.81923192, 0.57346234],\n",
       "       [0.81466539, 0.57993129],\n",
       "       [0.83205029, 0.5547002 ],\n",
       "       [0.79214099, 0.61033814],\n",
       "       [0.84117848, 0.54075759],\n",
       "       [0.83586903, 0.54892892],\n",
       "       [0.77950893, 0.62639111],\n",
       "       [0.8165775 , 0.57723582],\n",
       "       [0.80930018, 0.58739529],\n",
       "       [0.82060642, 0.57149375],\n",
       "       [0.77571168, 0.63108747],\n",
       "       [0.83624437, 0.54835696],\n",
       "       [0.78935222, 0.61394061],\n",
       "       [0.79214099, 0.61033814],\n",
       "       [0.8300496 , 0.55768957],\n",
       "       [0.83205029, 0.5547002 ],\n",
       "       [0.81696786, 0.5766832 ],\n",
       "       [0.80143311, 0.59808441],\n",
       "       [0.8       , 0.6       ],\n",
       "       [0.85217123, 0.52326303],\n",
       "       [0.82273034, 0.56843187],\n",
       "       [0.82972211, 0.55817669],\n",
       "       [0.82984257, 0.55799759],\n",
       "       [0.76193932, 0.64764842],\n",
       "       [0.76822128, 0.6401844 ],\n",
       "       [0.8       , 0.6       ],\n",
       "       [0.81865747, 0.57428211],\n",
       "       [0.81984282, 0.57258864],\n",
       "       [0.80686282, 0.59073885],\n",
       "       [0.80873608, 0.5881717 ],\n",
       "       [0.78086881, 0.62469505],\n",
       "       [0.79842658, 0.60209218],\n",
       "       [0.82321279, 0.56773296],\n",
       "       [0.83460941, 0.55084221],\n",
       "       [0.8       , 0.6       ],\n",
       "       [0.80505584, 0.59319904],\n",
       "       [0.80505584, 0.59319904],\n",
       "       [0.82171478, 0.56989896],\n",
       "       [0.86193422, 0.50702013],\n",
       "       [0.81180439, 0.58392947],\n",
       "       [0.72413793, 0.68965517],\n",
       "       [0.75097031, 0.66033597],\n",
       "       [0.76910845, 0.63911829],\n",
       "       [0.74740932, 0.66436384],\n",
       "       [0.7461413 , 0.66578762],\n",
       "       [0.75503312, 0.65568666],\n",
       "       [0.73652989, 0.676405  ],\n",
       "       [0.75705615, 0.65334982],\n",
       "       [0.75606129, 0.65450082],\n",
       "       [0.76298418, 0.64641715],\n",
       "       [0.78673816, 0.61728686],\n",
       "       [0.77019046, 0.63781397],\n",
       "       [0.77751107, 0.62886925],\n",
       "       [0.75175911, 0.65943782],\n",
       "       [0.75097031, 0.66033597],\n",
       "       [0.77019046, 0.63781397],\n",
       "       [0.76338629, 0.64594224],\n",
       "       [0.75439456, 0.65642124],\n",
       "       [0.74473519, 0.6673601 ],\n",
       "       [0.76822128, 0.6401844 ],\n",
       "       [0.77096175, 0.63688145],\n",
       "       [0.75257669, 0.65850461],\n",
       "       [0.75439456, 0.65642124],\n",
       "       [0.78935222, 0.61394061],\n",
       "       [0.76165876, 0.64797835],\n",
       "       [0.76822128, 0.6401844 ],\n",
       "       [0.79072371, 0.61217319],\n",
       "       [0.77962036, 0.62625242],\n",
       "       [0.75257669, 0.65850461],\n",
       "       [0.77875391, 0.62732954],\n",
       "       [0.77162915, 0.63607268],\n",
       "       [0.77701577, 0.62948113],\n",
       "       [0.75257669, 0.65850461],\n",
       "       [0.77724487, 0.62919823],\n",
       "       [0.73665266, 0.67627129],\n",
       "       [0.78383936, 0.62096365],\n",
       "       [0.74740932, 0.66436384],\n",
       "       [0.75841948, 0.65176674],\n",
       "       [0.78086881, 0.62469505],\n",
       "       [0.787505  , 0.61630826],\n",
       "       [0.76728177, 0.64131013],\n",
       "       [0.80417614, 0.59439106],\n",
       "       [0.75097031, 0.66033597],\n",
       "       [0.75532247, 0.65535332],\n",
       "       [0.76165876, 0.64797835],\n",
       "       [0.78998669, 0.613124  ],\n",
       "       [0.7832889 , 0.62165786],\n",
       "       [0.78086881, 0.62469505],\n",
       "       [0.7540816 , 0.65678074],\n",
       "       [0.75653461, 0.65395365]])"
      ]
     },
     "execution_count": 68,
     "metadata": {},
     "output_type": "execute_result"
    }
   ],
   "source": [
    "#sup = df.loc[:,:1]\n",
    "#x_array = np.array(df['sepal_length'])\n",
    "normal = preprocessing.normalize(sup)\n",
    "normal"
   ]
  },
  {
   "cell_type": "code",
   "execution_count": 6,
   "metadata": {
    "collapsed": true
   },
   "outputs": [
    {
     "data": {
      "text/plain": [
       "[nan,\n",
       " nan,\n",
       " nan,\n",
       " nan,\n",
       " nan,\n",
       " nan,\n",
       " nan,\n",
       " nan,\n",
       " nan,\n",
       " nan,\n",
       " nan,\n",
       " nan,\n",
       " nan,\n",
       " nan,\n",
       " nan,\n",
       " nan,\n",
       " nan,\n",
       " nan,\n",
       " nan,\n",
       " nan,\n",
       " nan,\n",
       " nan,\n",
       " nan,\n",
       " nan,\n",
       " nan,\n",
       " nan,\n",
       " nan,\n",
       " nan,\n",
       " nan,\n",
       " nan]"
      ]
     },
     "execution_count": 6,
     "metadata": {},
     "output_type": "execute_result"
    }
   ],
   "source": [
    "import warnings\n",
    "warnings.filterwarnings('ignore')\n",
    "a_stand = [((x - np.mean(x))/np.std(x)) for x in xx]\n",
    "#print(np.mean(np.array(a_stand)))\n",
    "a_stand"
   ]
  },
  {
   "cell_type": "code",
   "execution_count": 5,
   "metadata": {},
   "outputs": [
    {
     "name": "stdout",
     "output_type": "stream",
     "text": [
      "[ 1  2  3  4  5  6  7  8  9 10 11 12 13 14 15 16 17 18 19 20 21 22 23 24\n",
      " 25 26 27 28 29 30]\n",
      "8.65544144839919\n",
      "15.5\n",
      "24.155441448399188\n",
      "41.46632434519757\n"
     ]
    }
   ],
   "source": [
    "import numpy as np\n",
    "xx = np.arange(1,31)\n",
    "print(xx)\n",
    "print(np.std(xx))\n",
    "print(np.mean(xx))\n",
    "print((np.std(xx) + np.mean(xx) ))\n",
    "print((3*(np.std(xx)) + np.mean(xx)))"
   ]
  },
  {
   "cell_type": "code",
   "execution_count": 22,
   "metadata": {},
   "outputs": [
    {
     "name": "stdout",
     "output_type": "stream",
     "text": [
      "2.9461235630813705\n",
      "\n",
      "23.23\n"
     ]
    }
   ],
   "source": [
    "def st(x):\n",
    "    #for i in x:\n",
    "        return ((x - np.mean(xx))/np.std(xx))\n",
    "a_stand = st(41)\n",
    "print(a_stand)\n",
    "print()\n",
    "print(np.abs(23.23))"
   ]
  },
  {
   "cell_type": "code",
   "execution_count": 6,
   "metadata": {},
   "outputs": [
    {
     "data": {
      "text/plain": [
       "[-1.6752467319482305,\n",
       " -1.5597124745724904,\n",
       " -1.4441782171967503,\n",
       " -1.3286439598210102,\n",
       " -1.2131097024452704,\n",
       " -1.0975754450695303,\n",
       " -0.9820411876937902,\n",
       " -0.8665069303180502,\n",
       " -0.7509726729423102,\n",
       " -0.6354384155665701,\n",
       " -0.5199041581908301,\n",
       " -0.4043699008150901,\n",
       " -0.2888356434393501,\n",
       " -0.17330138606361004,\n",
       " -0.05776712868787001,\n",
       " 0.05776712868787001,\n",
       " 0.17330138606361004,\n",
       " 0.2888356434393501,\n",
       " 0.4043699008150901,\n",
       " 0.5199041581908301,\n",
       " 0.6354384155665701,\n",
       " 0.7509726729423102,\n",
       " 0.8665069303180502,\n",
       " 0.9820411876937902,\n",
       " 1.0975754450695303,\n",
       " 1.2131097024452704,\n",
       " 1.3286439598210102,\n",
       " 1.4441782171967503,\n",
       " 1.5597124745724904,\n",
       " 1.6752467319482305]"
      ]
     },
     "execution_count": 6,
     "metadata": {},
     "output_type": "execute_result"
    }
   ],
   "source": [
    "#                                                      It works\n",
    "a_stand = [(i - np.mean(xx))/np.std(xx) for i in xx]\n",
    "a_stand"
   ]
  },
  {
   "cell_type": "code",
   "execution_count": null,
   "metadata": {},
   "outputs": [],
   "source": []
  }
 ],
 "metadata": {
  "kernelspec": {
   "display_name": "Python 3",
   "language": "python",
   "name": "python3"
  },
  "language_info": {
   "codemirror_mode": {
    "name": "ipython",
    "version": 3
   },
   "file_extension": ".py",
   "mimetype": "text/x-python",
   "name": "python",
   "nbconvert_exporter": "python",
   "pygments_lexer": "ipython3",
   "version": "3.8.5"
  }
 },
 "nbformat": 4,
 "nbformat_minor": 4
}
